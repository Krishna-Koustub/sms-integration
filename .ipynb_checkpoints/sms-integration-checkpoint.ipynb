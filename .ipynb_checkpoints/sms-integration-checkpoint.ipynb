{
 "cells": [
  {
   "cell_type": "code",
   "execution_count": 29,
   "id": "b93ca339",
   "metadata": {},
   "outputs": [
    {
     "name": "stdout",
     "output_type": "stream",
     "text": [
      "What's the Twilio Account SID?········\n",
      "What's the Twilio Secret?········\n"
     ]
    }
   ],
   "source": [
    "import json\n",
    "from getpass import getpass\n",
    "\n",
    "reset_creds = True\n",
    "\n",
    "if reset_creds:\n",
    "    twilio_sid = getpass(\"What's the Twilio Account SID?\")\n",
    "    twilio_secret = getpass(\"What's the Twilio Secret?\")\n",
    "    '''\n",
    "    This will save our creds from above (blank or not) to a local file\n",
    "    named `creds.json` so we can re-use this credentials.\n",
    "    '''\n",
    "    data = {\n",
    "        \"twilio_sid\": twilio_sid,\n",
    "        \"twilio_secret\": twilio_secret\n",
    "    }\n",
    "    json_data = json.dumps(data)\n",
    "    with open('creds.json', 'w') as f:\n",
    "        f.write(json_data)"
   ]
  },
  {
   "cell_type": "code",
   "execution_count": 30,
   "id": "4c0432f9",
   "metadata": {},
   "outputs": [
    {
     "name": "stderr",
     "output_type": "stream",
     "text": [
      "'cat' is not recognized as an internal or external command,\n",
      "operable program or batch file.\n"
     ]
    }
   ],
   "source": [
    "!cat creds.json"
   ]
  },
  {
   "cell_type": "code",
   "execution_count": 31,
   "id": "a6ff369f",
   "metadata": {},
   "outputs": [
    {
     "name": "stdout",
     "output_type": "stream",
     "text": [
      "Requirement already satisfied: twilio in c:\\users\\krish\\appdata\\local\\programs\\python\\python310\\lib\\site-packages (7.11.0)\n",
      "Requirement already satisfied: pytz in c:\\users\\krish\\appdata\\local\\programs\\python\\python310\\lib\\site-packages (from twilio) (2021.1)\n",
      "Requirement already satisfied: PyJWT<3.0.0,>=2.0.0 in c:\\users\\krish\\appdata\\local\\programs\\python\\python310\\lib\\site-packages (from twilio) (2.4.0)\n",
      "Requirement already satisfied: requests>=2.0.0 in c:\\users\\krish\\appdata\\local\\programs\\python\\python310\\lib\\site-packages (from twilio) (2.27.1)\n",
      "Requirement already satisfied: urllib3<1.27,>=1.21.1 in c:\\users\\krish\\appdata\\local\\programs\\python\\python310\\lib\\site-packages (from requests>=2.0.0->twilio) (1.26.9)\n",
      "Requirement already satisfied: certifi>=2017.4.17 in c:\\users\\krish\\appdata\\local\\programs\\python\\python310\\lib\\site-packages (from requests>=2.0.0->twilio) (2022.5.18.1)\n",
      "Requirement already satisfied: charset-normalizer~=2.0.0 in c:\\users\\krish\\appdata\\local\\programs\\python\\python310\\lib\\site-packages (from requests>=2.0.0->twilio) (2.0.12)\n",
      "Requirement already satisfied: idna<4,>=2.5 in c:\\users\\krish\\appdata\\local\\programs\\python\\python310\\lib\\site-packages (from requests>=2.0.0->twilio) (3.3)\n",
      "Note: you may need to restart the kernel to use updated packages.\n"
     ]
    },
    {
     "name": "stderr",
     "output_type": "stream",
     "text": [
      "WARNING: You are using pip version 22.0.4; however, version 22.2 is available.\n",
      "You should consider upgrading via the 'C:\\Users\\krish\\AppData\\Local\\Programs\\Python\\Python310\\python.exe -m pip install --upgrade pip' command.\n"
     ]
    }
   ],
   "source": [
    "pip install twilio"
   ]
  },
  {
   "cell_type": "code",
   "execution_count": 32,
   "id": "ca817afc",
   "metadata": {},
   "outputs": [],
   "source": [
    "twilio_sid = \"AC8bc75157e98eeef303fab83cbd788e1e\"\n",
    "twilio_secret = '5dd4634cd8f8f353e97e127e4d245887'\n",
    "with open('creds.json', 'r') as f:\n",
    "        raw_data = f.read()\n",
    "        cred_data = json.loads(raw_data)\n",
    "        twilio_sid = cred_data.get('twilio_sid')\n",
    "        twilio_secret = cred_data.get('twilio_secret')"
   ]
  },
  {
   "cell_type": "code",
   "execution_count": 33,
   "id": "465f08e2",
   "metadata": {},
   "outputs": [],
   "source": [
    "from twilio.rest import Client\n",
    "\n",
    "client = Client(twilio_sid, twilio_secret)"
   ]
  },
  {
   "cell_type": "code",
   "execution_count": 34,
   "id": "97790140",
   "metadata": {},
   "outputs": [],
   "source": [
    "my_number = \"3343098569\" #??\n",
    "other_number = \"+91 8217378915\" # ??"
   ]
  },
  {
   "cell_type": "code",
   "execution_count": 35,
   "id": "043e2439",
   "metadata": {},
   "outputs": [],
   "source": [
    "body = \"Hello work from krishna\"\n",
    "message_twilio = client.messages.create(\n",
    "    body=body,\n",
    "    from_=my_number,\n",
    "    to=other_number\n",
    ")"
   ]
  },
  {
   "cell_type": "code",
   "execution_count": 36,
   "id": "eb2004b2",
   "metadata": {},
   "outputs": [
    {
     "ename": "FileNotFoundError",
     "evalue": "[Errno 2] No such file or directory: 'ignore.json'",
     "output_type": "error",
     "traceback": [
      "\u001b[1;31m---------------------------------------------------------------------------\u001b[0m",
      "\u001b[1;31mFileNotFoundError\u001b[0m                         Traceback (most recent call last)",
      "Input \u001b[1;32mIn [36]\u001b[0m, in \u001b[0;36m<cell line: 2>\u001b[1;34m()\u001b[0m\n\u001b[0;32m      1\u001b[0m ignore_numbers \u001b[38;5;241m=\u001b[39m []\n\u001b[1;32m----> 2\u001b[0m \u001b[38;5;28;01mwith\u001b[39;00m \u001b[38;5;28;43mopen\u001b[39;49m\u001b[43m(\u001b[49m\u001b[38;5;124;43m'\u001b[39;49m\u001b[38;5;124;43mignore.json\u001b[39;49m\u001b[38;5;124;43m'\u001b[39;49m\u001b[43m,\u001b[49m\u001b[43m \u001b[49m\u001b[38;5;124;43m'\u001b[39;49m\u001b[38;5;124;43mr\u001b[39;49m\u001b[38;5;124;43m'\u001b[39;49m\u001b[43m)\u001b[49m \u001b[38;5;28;01mas\u001b[39;00m f:\n\u001b[0;32m      3\u001b[0m     data \u001b[38;5;241m=\u001b[39m json\u001b[38;5;241m.\u001b[39mloads(f\u001b[38;5;241m.\u001b[39mread())\n\u001b[0;32m      4\u001b[0m     ignore_numbers \u001b[38;5;241m=\u001b[39m data\u001b[38;5;241m.\u001b[39mget(\u001b[38;5;124m'\u001b[39m\u001b[38;5;124mignore\u001b[39m\u001b[38;5;124m'\u001b[39m)\n",
      "\u001b[1;31mFileNotFoundError\u001b[0m: [Errno 2] No such file or directory: 'ignore.json'"
     ]
    }
   ],
   "source": [
    "ignore_numbers = []\n",
    "with open('ignore.json', 'r') as f:\n",
    "    data = json.loads(f.read())\n",
    "    ignore_numbers = data.get('ignore')"
   ]
  },
  {
   "cell_type": "code",
   "execution_count": 37,
   "id": "e8e4cb59",
   "metadata": {},
   "outputs": [
    {
     "data": {
      "text/plain": [
       "'+13343098569'"
      ]
     },
     "execution_count": 37,
     "metadata": {},
     "output_type": "execute_result"
    }
   ],
   "source": [
    "msg_sid = message_twilio.sid\n",
    "msg_sid\n",
    "\n",
    "msg_ctx = client.messages.get(msg_sid)\n",
    "msg_instance = msg_ctx.fetch()\n",
    "\n",
    "msg_instance.from_"
   ]
  },
  {
   "cell_type": "code",
   "execution_count": 38,
   "id": "87ec9267",
   "metadata": {},
   "outputs": [
    {
     "name": "stdout",
     "output_type": "stream",
     "text": [
      "0 Sent from your Twilio trial account - Hello work from krishna +918217378915 +13343098569 False\n",
      "1 Sent from your Twilio trial account - Hello work from krishna +918217378915 +13343098569 False\n",
      "2 Sent from your Twilio trial account - FUCK ME KANISH +918217378915 +13343098569 False\n",
      "3 Sent from your Twilio trial account - Hello world again +918217378915 +13343098569 False\n"
     ]
    }
   ],
   "source": [
    "messages = client.messages.list(limit=20, to=other_number)\n",
    "\n",
    "for i, record in enumerate(messages):\n",
    "    from_ = record.from_\n",
    "    to = record.to\n",
    "    if from_ in ignore_numbers:\n",
    "        from_ = '~hidden~'\n",
    "    if to in ignore_numbers:\n",
    "        to = '~hidden~'\n",
    "    from_me = False\n",
    "    if from_ == my_number:\n",
    "        from_me = True\n",
    "    print(i, record.body, to, from_, from_me)"
   ]
  },
  {
   "cell_type": "code",
   "execution_count": null,
   "id": "99adb3de",
   "metadata": {},
   "outputs": [],
   "source": []
  }
 ],
 "metadata": {
  "kernelspec": {
   "display_name": "Python 3 (ipykernel)",
   "language": "python",
   "name": "python3"
  },
  "language_info": {
   "codemirror_mode": {
    "name": "ipython",
    "version": 3
   },
   "file_extension": ".py",
   "mimetype": "text/x-python",
   "name": "python",
   "nbconvert_exporter": "python",
   "pygments_lexer": "ipython3",
   "version": "3.10.4"
  }
 },
 "nbformat": 4,
 "nbformat_minor": 5
}
